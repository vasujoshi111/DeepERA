{
 "cells": [
  {
   "cell_type": "code",
   "execution_count": 11,
   "id": "7d41db05-f0cc-4c8c-9686-e1c50d75c7e2",
   "metadata": {},
   "outputs": [
    {
     "name": "stdout",
     "output_type": "stream",
     "text": [
      "\u001b[33mWARNING: Running pip as the 'root' user can result in broken permissions and conflicting behaviour with the system package manager. It is recommended to use a virtual environment instead: https://pip.pypa.io/warnings/venv\u001b[0m\u001b[33m\n",
      "\u001b[0m"
     ]
    }
   ],
   "source": [
    "!pip install -q pytorch-lightning==2.1.3 lightning==2.1.3 lightning-utilities==0.10.0"
   ]
  },
  {
   "cell_type": "code",
   "execution_count": null,
   "id": "9818a742-7d25-48dc-b042-5246e310213f",
   "metadata": {},
   "outputs": [
    {
     "name": "stdout",
     "output_type": "stream",
     "text": [
      "Using bfloat16 Automatic Mixed Precision (AMP)\n",
      "{'model_name': 'phi-2', 'name': 'phi2_training', 'save_interval': 1000, 'eval_interval': 1000, 'eval_iters': 100, 'log_interval': 10, 'learning_rate': 0.006, 'batch_size': 1, 'micro_batch_size': 1, 'gradient_accumulation_steps': 1, 'max_iters': 600000, 'weight_decay': 0.1, 'beta1': 0.9, 'beta2': 0.95, 'grad_clip': 1.0, 'decay_lr': True, 'warmup_iters': 2000, 'lr_decay_iters': 600000, 'min_lr': 6e-06}\n",
      "Seed set to 1337\n",
      "Loading model with {'name': 'phi-2', 'hf_config': {'org': 'microsoft', 'name': 'phi-2'}, 'block_size': 2048, 'vocab_size': 50257, 'padding_multiple': 512, 'padded_vocab_size': 51200, 'n_layer': 32, 'n_head': 32, 'n_embd': 2560, 'rotary_percentage': 0.4, 'parallel_residual': True, 'bias': True, 'lm_head_bias': True, 'n_query_groups': 32, 'shared_attention_norm': True, '_norm_class': 'LayerNorm', 'norm_eps': 1e-05, '_mlp_class': 'GptNeoxMLP', 'gelu_approximate': 'tanh', 'intermediate_size': 10240, 'rope_condense_ratio': 1, 'rope_base': 10000, 'head_size': 80, 'rope_n_elem': 32}\n",
      "Time to instantiate model: 0.25 seconds.\n",
      "Total parameters 2,779,683,840\n",
      "Estimated TFLOPs: 41.03\n",
      "Measured TFLOPs: 36.66\n",
      "iter 0 step 1: loss 11.3434, LR: 0.000000, iter time: 1257.23ms (optimizer.step)\n",
      "iter 10 step 11: loss 9.2919, LR: 0.000030, iter time: 606.41ms (optimizer.step)\n"
     ]
    }
   ],
   "source": [
    "!python train.py"
   ]
  },
  {
   "cell_type": "code",
   "execution_count": null,
   "id": "daf70da0-6e68-4762-a3f0-da5d9f9ac2a1",
   "metadata": {},
   "outputs": [],
   "source": []
  }
 ],
 "metadata": {
  "kernelspec": {
   "display_name": "Python 3 (ipykernel)",
   "language": "python",
   "name": "python3"
  },
  "language_info": {
   "codemirror_mode": {
    "name": "ipython",
    "version": 3
   },
   "file_extension": ".py",
   "mimetype": "text/x-python",
   "name": "python",
   "nbconvert_exporter": "python",
   "pygments_lexer": "ipython3",
   "version": "3.10.11"
  }
 },
 "nbformat": 4,
 "nbformat_minor": 5
}
