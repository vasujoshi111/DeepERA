{
  "cells": [
    {
      "cell_type": "code",
      "execution_count": null,
      "metadata": {},
      "outputs": [],
      "source": [
        "import matplotlib.pyplot as plt\n",
        "from torchsummary import summary\n",
        "from dataloader import get_data_loader\n",
        "from utils import get_train_parameters, get_misclassified, classes_dict\n",
        "from train import train, train_losses, train_acc\n",
        "from test import test, test_losses, test_acc\n",
        "import numpy as np"
      ]
    },
    {
      "cell_type": "code",
      "execution_count": null,
      "metadata": {},
      "outputs": [],
      "source": [
        "num_epochs = 20\n",
        "batch_size = 128\n",
        "train_loader, test_loader = get_data_loader(batch_size)"
      ]
    },
    {
      "cell_type": "code",
      "execution_count": 41,
      "metadata": {
        "colab": {
          "base_uri": "https://localhost:8080/"
        },
        "id": "5skB97zIJQQe",
        "outputId": "242a14de-613b-4918-fe19-ab943d4073c4"
      },
      "outputs": [
        {
          "name": "stdout",
          "output_type": "stream",
          "text": [
            "Requirement already satisfied: torchsummary in /usr/local/lib/python3.10/dist-packages (1.5.1)\n",
            "cuda\n",
            "----------------------------------------------------------------\n",
            "        Layer (type)               Output Shape         Param #\n",
            "================================================================\n",
            "            Conv2d-1           [-1, 16, 32, 32]             432\n",
            "              ReLU-2           [-1, 16, 32, 32]               0\n",
            "       BatchNorm2d-3           [-1, 16, 32, 32]              32\n",
            "           Dropout-4           [-1, 16, 32, 32]               0\n",
            "            Conv2d-5           [-1, 16, 32, 32]           2,304\n",
            "              ReLU-6           [-1, 16, 32, 32]               0\n",
            "       BatchNorm2d-7           [-1, 16, 32, 32]              32\n",
            "           Dropout-8           [-1, 16, 32, 32]               0\n",
            "            Conv2d-9           [-1, 32, 28, 28]           4,608\n",
            "             ReLU-10           [-1, 32, 28, 28]               0\n",
            "      BatchNorm2d-11           [-1, 32, 28, 28]              64\n",
            "          Dropout-12           [-1, 32, 28, 28]               0\n",
            "           Conv2d-13           [-1, 32, 28, 28]           9,216\n",
            "             ReLU-14           [-1, 32, 28, 28]               0\n",
            "      BatchNorm2d-15           [-1, 32, 28, 28]              64\n",
            "          Dropout-16           [-1, 32, 28, 28]               0\n",
            "           Conv2d-17           [-1, 64, 28, 28]          18,432\n",
            "             ReLU-18           [-1, 64, 28, 28]               0\n",
            "      BatchNorm2d-19           [-1, 64, 28, 28]             128\n",
            "          Dropout-20           [-1, 64, 28, 28]               0\n",
            "           Conv2d-21           [-1, 32, 28, 28]           2,048\n",
            "             ReLU-22           [-1, 32, 28, 28]               0\n",
            "      BatchNorm2d-23           [-1, 32, 28, 28]              64\n",
            "          Dropout-24           [-1, 32, 28, 28]               0\n",
            "           Conv2d-25           [-1, 32, 28, 28]           9,216\n",
            "             ReLU-26           [-1, 32, 28, 28]               0\n",
            "      BatchNorm2d-27           [-1, 32, 28, 28]              64\n",
            "          Dropout-28           [-1, 32, 28, 28]               0\n",
            "           Conv2d-29           [-1, 32, 28, 28]           9,216\n",
            "             ReLU-30           [-1, 32, 28, 28]               0\n",
            "      BatchNorm2d-31           [-1, 32, 28, 28]              64\n",
            "          Dropout-32           [-1, 32, 28, 28]               0\n",
            "           Conv2d-33           [-1, 64, 24, 24]          18,432\n",
            "             ReLU-34           [-1, 64, 24, 24]               0\n",
            "      BatchNorm2d-35           [-1, 64, 24, 24]             128\n",
            "          Dropout-36           [-1, 64, 24, 24]               0\n",
            "           Conv2d-37           [-1, 64, 24, 24]          36,864\n",
            "             ReLU-38           [-1, 64, 24, 24]               0\n",
            "      BatchNorm2d-39           [-1, 64, 24, 24]             128\n",
            "          Dropout-40           [-1, 64, 24, 24]               0\n",
            "           Conv2d-41          [-1, 128, 24, 24]          73,728\n",
            "             ReLU-42          [-1, 128, 24, 24]               0\n",
            "      BatchNorm2d-43          [-1, 128, 24, 24]             256\n",
            "          Dropout-44          [-1, 128, 24, 24]               0\n",
            "           Conv2d-45           [-1, 64, 24, 24]           8,192\n",
            "             ReLU-46           [-1, 64, 24, 24]               0\n",
            "      BatchNorm2d-47           [-1, 64, 24, 24]             128\n",
            "          Dropout-48           [-1, 64, 24, 24]               0\n",
            "AdaptiveAvgPool2d-49             [-1, 64, 1, 1]               0\n",
            "           Conv2d-50             [-1, 10, 1, 1]             640\n",
            "================================================================\n",
            "Total params: 194,480\n",
            "Trainable params: 194,480\n",
            "Non-trainable params: 0\n",
            "----------------------------------------------------------------\n",
            "Input size (MB): 0.01\n",
            "Forward/backward pass size (MB): 11.98\n",
            "Params size (MB): 0.74\n",
            "Estimated Total Size (MB): 12.74\n",
            "----------------------------------------------------------------\n"
          ]
        }
      ],
      "source": [
        "model, device, optimizer, scheduler, criterion = get_train_parameters()\n",
        "summary(model, input_size=(3, 32, 32))"
      ]
    },
    {
      "cell_type": "code",
      "execution_count": null,
      "metadata": {
        "colab": {
          "base_uri": "https://localhost:8080/"
        },
        "id": "aE5Le6FYHhc8",
        "outputId": "f0195066-0687-4d32-d302-5f09fcb47a33"
      },
      "outputs": [
        {
          "name": "stdout",
          "output_type": "stream",
          "text": [
            "EPOCH: 0\n"
          ]
        },
        {
          "name": "stderr",
          "output_type": "stream",
          "text": [
            "Loss=1.4842575788497925 Batch_id=390 Accuracy=38.08: 100%|██████████| 391/391 [00:58<00:00,  6.71it/s]\n"
          ]
        },
        {
          "name": "stdout",
          "output_type": "stream",
          "text": [
            "\n",
            "Test set: Average loss: 1.3789, Accuracy: 4932/10000 (49.32%)\n",
            "\n",
            "EPOCH: 1\n"
          ]
        },
        {
          "name": "stderr",
          "output_type": "stream",
          "text": [
            "Loss=1.2616140842437744 Batch_id=390 Accuracy=51.79: 100%|██████████| 391/391 [00:53<00:00,  7.30it/s]\n"
          ]
        },
        {
          "name": "stdout",
          "output_type": "stream",
          "text": [
            "\n",
            "Test set: Average loss: 1.2606, Accuracy: 5450/10000 (54.50%)\n",
            "\n",
            "EPOCH: 2\n"
          ]
        },
        {
          "name": "stderr",
          "output_type": "stream",
          "text": [
            "Loss=1.3476847410202026 Batch_id=390 Accuracy=57.20: 100%|██████████| 391/391 [00:53<00:00,  7.33it/s]\n"
          ]
        },
        {
          "name": "stdout",
          "output_type": "stream",
          "text": [
            "\n",
            "Test set: Average loss: 1.1546, Accuracy: 5865/10000 (58.65%)\n",
            "\n",
            "EPOCH: 3\n"
          ]
        },
        {
          "name": "stderr",
          "output_type": "stream",
          "text": [
            "Loss=1.0649290084838867 Batch_id=390 Accuracy=60.47: 100%|██████████| 391/391 [00:52<00:00,  7.41it/s]\n"
          ]
        },
        {
          "name": "stdout",
          "output_type": "stream",
          "text": [
            "\n",
            "Test set: Average loss: 1.0522, Accuracy: 6225/10000 (62.25%)\n",
            "\n",
            "EPOCH: 4\n"
          ]
        },
        {
          "name": "stderr",
          "output_type": "stream",
          "text": [
            "Loss=0.9920147061347961 Batch_id=390 Accuracy=62.91: 100%|██████████| 391/391 [00:54<00:00,  7.12it/s]\n"
          ]
        },
        {
          "name": "stdout",
          "output_type": "stream",
          "text": [
            "\n",
            "Test set: Average loss: 0.9379, Accuracy: 6605/10000 (66.05%)\n",
            "\n",
            "EPOCH: 5\n"
          ]
        },
        {
          "name": "stderr",
          "output_type": "stream",
          "text": [
            "Loss=0.934179961681366 Batch_id=390 Accuracy=64.91: 100%|██████████| 391/391 [00:52<00:00,  7.40it/s]\n"
          ]
        },
        {
          "name": "stdout",
          "output_type": "stream",
          "text": [
            "\n",
            "Test set: Average loss: 0.9402, Accuracy: 6624/10000 (66.24%)\n",
            "\n",
            "EPOCH: 6\n"
          ]
        },
        {
          "name": "stderr",
          "output_type": "stream",
          "text": [
            "Loss=0.9641785621643066 Batch_id=390 Accuracy=66.35: 100%|██████████| 391/391 [00:54<00:00,  7.21it/s]\n"
          ]
        },
        {
          "name": "stdout",
          "output_type": "stream",
          "text": [
            "\n",
            "Test set: Average loss: 0.9213, Accuracy: 6708/10000 (67.08%)\n",
            "\n",
            "EPOCH: 7\n"
          ]
        },
        {
          "name": "stderr",
          "output_type": "stream",
          "text": [
            "Loss=0.8336142301559448 Batch_id=390 Accuracy=67.70: 100%|██████████| 391/391 [00:52<00:00,  7.38it/s]\n"
          ]
        },
        {
          "name": "stdout",
          "output_type": "stream",
          "text": [
            "\n",
            "Test set: Average loss: 0.8673, Accuracy: 6954/10000 (69.54%)\n",
            "\n",
            "EPOCH: 8\n"
          ]
        },
        {
          "name": "stderr",
          "output_type": "stream",
          "text": [
            "Loss=0.7927635312080383 Batch_id=390 Accuracy=69.00: 100%|██████████| 391/391 [00:53<00:00,  7.28it/s]\n"
          ]
        },
        {
          "name": "stdout",
          "output_type": "stream",
          "text": [
            "\n",
            "Test set: Average loss: 0.9592, Accuracy: 6798/10000 (67.98%)\n",
            "\n",
            "EPOCH: 9\n"
          ]
        },
        {
          "name": "stderr",
          "output_type": "stream",
          "text": [
            "Loss=0.7346677184104919 Batch_id=390 Accuracy=69.75: 100%|██████████| 391/391 [00:52<00:00,  7.39it/s]\n"
          ]
        },
        {
          "name": "stdout",
          "output_type": "stream",
          "text": [
            "\n",
            "Test set: Average loss: 0.8126, Accuracy: 7131/10000 (71.31%)\n",
            "\n",
            "EPOCH: 10\n"
          ]
        },
        {
          "name": "stderr",
          "output_type": "stream",
          "text": [
            "Loss=0.7398192286491394 Batch_id=390 Accuracy=70.93: 100%|██████████| 391/391 [00:54<00:00,  7.14it/s]\n"
          ]
        },
        {
          "name": "stdout",
          "output_type": "stream",
          "text": [
            "\n",
            "Test set: Average loss: 0.7992, Accuracy: 7168/10000 (71.68%)\n",
            "\n",
            "EPOCH: 11\n"
          ]
        },
        {
          "name": "stderr",
          "output_type": "stream",
          "text": [
            "Loss=0.6630011200904846 Batch_id=390 Accuracy=71.61: 100%|██████████| 391/391 [00:53<00:00,  7.35it/s]\n"
          ]
        },
        {
          "name": "stdout",
          "output_type": "stream",
          "text": [
            "\n",
            "Test set: Average loss: 0.7429, Accuracy: 7326/10000 (73.26%)\n",
            "\n",
            "EPOCH: 12\n"
          ]
        },
        {
          "name": "stderr",
          "output_type": "stream",
          "text": [
            "Loss=0.6163672804832458 Batch_id=390 Accuracy=72.50: 100%|██████████| 391/391 [00:53<00:00,  7.28it/s]\n"
          ]
        },
        {
          "name": "stdout",
          "output_type": "stream",
          "text": [
            "\n",
            "Test set: Average loss: 0.7734, Accuracy: 7293/10000 (72.93%)\n",
            "\n",
            "EPOCH: 13\n"
          ]
        },
        {
          "name": "stderr",
          "output_type": "stream",
          "text": [
            "Loss=0.7897316217422485 Batch_id=390 Accuracy=73.02: 100%|██████████| 391/391 [00:53<00:00,  7.27it/s]\n"
          ]
        },
        {
          "name": "stdout",
          "output_type": "stream",
          "text": [
            "\n",
            "Test set: Average loss: 0.7749, Accuracy: 7287/10000 (72.87%)\n",
            "\n",
            "EPOCH: 14\n"
          ]
        },
        {
          "name": "stderr",
          "output_type": "stream",
          "text": [
            "Loss=0.6461511254310608 Batch_id=390 Accuracy=73.76: 100%|██████████| 391/391 [00:55<00:00,  7.06it/s]\n"
          ]
        },
        {
          "name": "stdout",
          "output_type": "stream",
          "text": [
            "\n",
            "Test set: Average loss: 0.7238, Accuracy: 7476/10000 (74.76%)\n",
            "\n",
            "EPOCH: 15\n"
          ]
        },
        {
          "name": "stderr",
          "output_type": "stream",
          "text": [
            "Loss=0.7213649153709412 Batch_id=390 Accuracy=74.08: 100%|██████████| 391/391 [00:53<00:00,  7.34it/s]\n"
          ]
        },
        {
          "name": "stdout",
          "output_type": "stream",
          "text": [
            "\n",
            "Test set: Average loss: 0.7096, Accuracy: 7529/10000 (75.29%)\n",
            "\n",
            "EPOCH: 16\n"
          ]
        },
        {
          "name": "stderr",
          "output_type": "stream",
          "text": [
            "Loss=0.8328917622566223 Batch_id=390 Accuracy=74.97: 100%|██████████| 391/391 [00:55<00:00,  7.03it/s]\n"
          ]
        },
        {
          "name": "stdout",
          "output_type": "stream",
          "text": [
            "\n",
            "Test set: Average loss: 0.6847, Accuracy: 7609/10000 (76.09%)\n",
            "\n",
            "EPOCH: 17\n"
          ]
        },
        {
          "name": "stderr",
          "output_type": "stream",
          "text": [
            "Loss=0.6621308922767639 Batch_id=390 Accuracy=75.42: 100%|██████████| 391/391 [00:53<00:00,  7.33it/s]\n"
          ]
        },
        {
          "name": "stdout",
          "output_type": "stream",
          "text": [
            "\n",
            "Test set: Average loss: 0.7086, Accuracy: 7543/10000 (75.43%)\n",
            "\n",
            "EPOCH: 18\n"
          ]
        },
        {
          "name": "stderr",
          "output_type": "stream",
          "text": [
            "Loss=0.6155828237533569 Batch_id=390 Accuracy=75.71: 100%|██████████| 391/391 [00:55<00:00,  6.98it/s]\n"
          ]
        },
        {
          "name": "stdout",
          "output_type": "stream",
          "text": [
            "\n",
            "Test set: Average loss: 0.6928, Accuracy: 7592/10000 (75.92%)\n",
            "\n",
            "EPOCH: 19\n"
          ]
        },
        {
          "name": "stderr",
          "output_type": "stream",
          "text": [
            "Loss=0.5238233804702759 Batch_id=390 Accuracy=75.93: 100%|██████████| 391/391 [00:53<00:00,  7.30it/s]\n"
          ]
        },
        {
          "name": "stdout",
          "output_type": "stream",
          "text": [
            "\n",
            "Test set: Average loss: 0.6894, Accuracy: 7608/10000 (76.08%)\n",
            "\n",
            "EPOCH: 20\n"
          ]
        },
        {
          "name": "stderr",
          "output_type": "stream",
          "text": [
            "Loss=0.5582334995269775 Batch_id=390 Accuracy=78.90: 100%|██████████| 391/391 [00:54<00:00,  7.16it/s]\n"
          ]
        },
        {
          "name": "stdout",
          "output_type": "stream",
          "text": [
            "\n",
            "Test set: Average loss: 0.6078, Accuracy: 7861/10000 (78.61%)\n",
            "\n",
            "EPOCH: 21\n"
          ]
        },
        {
          "name": "stderr",
          "output_type": "stream",
          "text": [
            "Loss=0.6093055605888367 Batch_id=390 Accuracy=79.89: 100%|██████████| 391/391 [00:53<00:00,  7.32it/s]\n"
          ]
        },
        {
          "name": "stdout",
          "output_type": "stream",
          "text": [
            "\n",
            "Test set: Average loss: 0.6024, Accuracy: 7891/10000 (78.91%)\n",
            "\n",
            "EPOCH: 22\n"
          ]
        },
        {
          "name": "stderr",
          "output_type": "stream",
          "text": [
            "Loss=0.6339574456214905 Batch_id=390 Accuracy=80.16: 100%|██████████| 391/391 [00:53<00:00,  7.32it/s]\n"
          ]
        },
        {
          "name": "stdout",
          "output_type": "stream",
          "text": [
            "\n",
            "Test set: Average loss: 0.5956, Accuracy: 7924/10000 (79.24%)\n",
            "\n",
            "EPOCH: 23\n"
          ]
        },
        {
          "name": "stderr",
          "output_type": "stream",
          "text": [
            "Loss=0.5974394083023071 Batch_id=390 Accuracy=80.32: 100%|██████████| 391/391 [00:53<00:00,  7.24it/s]\n"
          ]
        },
        {
          "name": "stdout",
          "output_type": "stream",
          "text": [
            "\n",
            "Test set: Average loss: 0.5908, Accuracy: 7935/10000 (79.35%)\n",
            "\n",
            "EPOCH: 24\n"
          ]
        },
        {
          "name": "stderr",
          "output_type": "stream",
          "text": [
            "Loss=0.6972607970237732 Batch_id=390 Accuracy=80.42: 100%|██████████| 391/391 [00:53<00:00,  7.25it/s]\n"
          ]
        },
        {
          "name": "stdout",
          "output_type": "stream",
          "text": [
            "\n",
            "Test set: Average loss: 0.5958, Accuracy: 7938/10000 (79.38%)\n",
            "\n",
            "EPOCH: 25\n"
          ]
        },
        {
          "name": "stderr",
          "output_type": "stream",
          "text": [
            "Loss=0.4461957812309265 Batch_id=390 Accuracy=80.36: 100%|██████████| 391/391 [00:53<00:00,  7.28it/s]\n"
          ]
        },
        {
          "name": "stdout",
          "output_type": "stream",
          "text": [
            "\n",
            "Test set: Average loss: 0.5916, Accuracy: 7927/10000 (79.27%)\n",
            "\n",
            "EPOCH: 26\n"
          ]
        },
        {
          "name": "stderr",
          "output_type": "stream",
          "text": [
            "Loss=0.5434173941612244 Batch_id=390 Accuracy=80.87: 100%|██████████| 391/391 [00:57<00:00,  6.85it/s]\n"
          ]
        },
        {
          "name": "stdout",
          "output_type": "stream",
          "text": [
            "\n",
            "Test set: Average loss: 0.5888, Accuracy: 7966/10000 (79.66%)\n",
            "\n",
            "EPOCH: 27\n"
          ]
        },
        {
          "name": "stderr",
          "output_type": "stream",
          "text": [
            "Loss=0.6043996214866638 Batch_id=390 Accuracy=80.86: 100%|██████████| 391/391 [00:55<00:00,  7.10it/s]\n"
          ]
        },
        {
          "name": "stdout",
          "output_type": "stream",
          "text": [
            "\n",
            "Test set: Average loss: 0.5933, Accuracy: 7956/10000 (79.56%)\n",
            "\n",
            "EPOCH: 28\n"
          ]
        },
        {
          "name": "stderr",
          "output_type": "stream",
          "text": [
            "Loss=0.6273679733276367 Batch_id=390 Accuracy=80.69: 100%|██████████| 391/391 [00:53<00:00,  7.27it/s]\n"
          ]
        },
        {
          "name": "stdout",
          "output_type": "stream",
          "text": [
            "\n",
            "Test set: Average loss: 0.5934, Accuracy: 7937/10000 (79.37%)\n",
            "\n",
            "EPOCH: 29\n"
          ]
        },
        {
          "name": "stderr",
          "output_type": "stream",
          "text": [
            "Loss=0.40843135118484497 Batch_id=390 Accuracy=80.95: 100%|██████████| 391/391 [00:54<00:00,  7.22it/s]\n"
          ]
        },
        {
          "name": "stdout",
          "output_type": "stream",
          "text": [
            "\n",
            "Test set: Average loss: 0.5761, Accuracy: 7978/10000 (79.78%)\n",
            "\n",
            "EPOCH: 30\n"
          ]
        },
        {
          "name": "stderr",
          "output_type": "stream",
          "text": [
            "Loss=0.4545527398586273 Batch_id=390 Accuracy=81.10: 100%|██████████| 391/391 [00:53<00:00,  7.32it/s]\n"
          ]
        },
        {
          "name": "stdout",
          "output_type": "stream",
          "text": [
            "\n",
            "Test set: Average loss: 0.5878, Accuracy: 7957/10000 (79.57%)\n",
            "\n",
            "EPOCH: 31\n"
          ]
        },
        {
          "name": "stderr",
          "output_type": "stream",
          "text": [
            "Loss=0.43967413902282715 Batch_id=390 Accuracy=81.06: 100%|██████████| 391/391 [00:54<00:00,  7.24it/s]\n"
          ]
        },
        {
          "name": "stdout",
          "output_type": "stream",
          "text": [
            "\n",
            "Test set: Average loss: 0.5851, Accuracy: 7963/10000 (79.63%)\n",
            "\n",
            "EPOCH: 32\n"
          ]
        },
        {
          "name": "stderr",
          "output_type": "stream",
          "text": [
            "Loss=0.43524104356765747 Batch_id=390 Accuracy=81.30: 100%|██████████| 391/391 [00:54<00:00,  7.24it/s]\n"
          ]
        },
        {
          "name": "stdout",
          "output_type": "stream",
          "text": [
            "\n",
            "Test set: Average loss: 0.5814, Accuracy: 8001/10000 (80.01%)\n",
            "\n",
            "EPOCH: 33\n"
          ]
        },
        {
          "name": "stderr",
          "output_type": "stream",
          "text": [
            "Loss=0.4813985228538513 Batch_id=390 Accuracy=81.21: 100%|██████████| 391/391 [00:53<00:00,  7.26it/s]\n"
          ]
        },
        {
          "name": "stdout",
          "output_type": "stream",
          "text": [
            "\n",
            "Test set: Average loss: 0.5786, Accuracy: 8018/10000 (80.18%)\n",
            "\n",
            "EPOCH: 34\n"
          ]
        },
        {
          "name": "stderr",
          "output_type": "stream",
          "text": [
            "Loss=0.5135194063186646 Batch_id=390 Accuracy=81.41: 100%|██████████| 391/391 [00:54<00:00,  7.14it/s]\n"
          ]
        },
        {
          "name": "stdout",
          "output_type": "stream",
          "text": [
            "\n",
            "Test set: Average loss: 0.5818, Accuracy: 8005/10000 (80.05%)\n",
            "\n",
            "EPOCH: 35\n"
          ]
        },
        {
          "name": "stderr",
          "output_type": "stream",
          "text": [
            "Loss=0.4713210165500641 Batch_id=390 Accuracy=81.45: 100%|██████████| 391/391 [00:54<00:00,  7.18it/s]\n"
          ]
        },
        {
          "name": "stdout",
          "output_type": "stream",
          "text": [
            "\n",
            "Test set: Average loss: 0.5791, Accuracy: 8008/10000 (80.08%)\n",
            "\n",
            "EPOCH: 36\n"
          ]
        },
        {
          "name": "stderr",
          "output_type": "stream",
          "text": [
            "Loss=0.7056365013122559 Batch_id=390 Accuracy=81.42: 100%|██████████| 391/391 [00:55<00:00,  7.08it/s]\n"
          ]
        },
        {
          "name": "stdout",
          "output_type": "stream",
          "text": [
            "\n",
            "Test set: Average loss: 0.5793, Accuracy: 8011/10000 (80.11%)\n",
            "\n",
            "EPOCH: 37\n"
          ]
        },
        {
          "name": "stderr",
          "output_type": "stream",
          "text": [
            "Loss=0.4732937216758728 Batch_id=390 Accuracy=81.61: 100%|██████████| 391/391 [00:54<00:00,  7.23it/s]\n"
          ]
        },
        {
          "name": "stdout",
          "output_type": "stream",
          "text": [
            "\n",
            "Test set: Average loss: 0.5860, Accuracy: 7995/10000 (79.95%)\n",
            "\n",
            "EPOCH: 38\n"
          ]
        },
        {
          "name": "stderr",
          "output_type": "stream",
          "text": [
            "Loss=0.5026987791061401 Batch_id=390 Accuracy=81.79: 100%|██████████| 391/391 [00:54<00:00,  7.21it/s]\n"
          ]
        },
        {
          "name": "stdout",
          "output_type": "stream",
          "text": [
            "\n",
            "Test set: Average loss: 0.5749, Accuracy: 8013/10000 (80.13%)\n",
            "\n",
            "EPOCH: 39\n"
          ]
        },
        {
          "name": "stderr",
          "output_type": "stream",
          "text": [
            "Loss=0.3015492260456085 Batch_id=390 Accuracy=81.91: 100%|██████████| 391/391 [00:55<00:00,  7.06it/s]\n"
          ]
        },
        {
          "name": "stdout",
          "output_type": "stream",
          "text": [
            "\n",
            "Test set: Average loss: 0.5791, Accuracy: 7990/10000 (79.90%)\n",
            "\n",
            "EPOCH: 40\n"
          ]
        },
        {
          "name": "stderr",
          "output_type": "stream",
          "text": [
            "Loss=0.4871264100074768 Batch_id=390 Accuracy=82.31: 100%|██████████| 391/391 [00:54<00:00,  7.21it/s]\n"
          ]
        },
        {
          "name": "stdout",
          "output_type": "stream",
          "text": [
            "\n",
            "Test set: Average loss: 0.5766, Accuracy: 8011/10000 (80.11%)\n",
            "\n",
            "EPOCH: 41\n"
          ]
        },
        {
          "name": "stderr",
          "output_type": "stream",
          "text": [
            "Loss=0.4558107256889343 Batch_id=390 Accuracy=82.07: 100%|██████████| 391/391 [00:55<00:00,  7.06it/s]\n"
          ]
        },
        {
          "name": "stdout",
          "output_type": "stream",
          "text": [
            "\n",
            "Test set: Average loss: 0.5672, Accuracy: 8045/10000 (80.45%)\n",
            "\n",
            "EPOCH: 42\n"
          ]
        },
        {
          "name": "stderr",
          "output_type": "stream",
          "text": [
            "Loss=0.5483049750328064 Batch_id=390 Accuracy=82.33: 100%|██████████| 391/391 [00:53<00:00,  7.24it/s]\n"
          ]
        },
        {
          "name": "stdout",
          "output_type": "stream",
          "text": [
            "\n",
            "Test set: Average loss: 0.5743, Accuracy: 8018/10000 (80.18%)\n",
            "\n",
            "EPOCH: 43\n"
          ]
        },
        {
          "name": "stderr",
          "output_type": "stream",
          "text": [
            "Loss=0.6024994850158691 Batch_id=390 Accuracy=82.30: 100%|██████████| 391/391 [00:54<00:00,  7.16it/s]\n"
          ]
        },
        {
          "name": "stdout",
          "output_type": "stream",
          "text": [
            "\n",
            "Test set: Average loss: 0.5680, Accuracy: 8035/10000 (80.35%)\n",
            "\n",
            "EPOCH: 44\n"
          ]
        },
        {
          "name": "stderr",
          "output_type": "stream",
          "text": [
            "Loss=0.4750393033027649 Batch_id=390 Accuracy=82.44: 100%|██████████| 391/391 [00:55<00:00,  6.98it/s]\n"
          ]
        },
        {
          "name": "stdout",
          "output_type": "stream",
          "text": [
            "\n",
            "Test set: Average loss: 0.5743, Accuracy: 8032/10000 (80.32%)\n",
            "\n",
            "EPOCH: 45\n"
          ]
        },
        {
          "name": "stderr",
          "output_type": "stream",
          "text": [
            "Loss=0.42549753189086914 Batch_id=390 Accuracy=82.48: 100%|██████████| 391/391 [00:54<00:00,  7.19it/s]\n"
          ]
        },
        {
          "name": "stdout",
          "output_type": "stream",
          "text": [
            "\n",
            "Test set: Average loss: 0.5735, Accuracy: 8036/10000 (80.36%)\n",
            "\n",
            "EPOCH: 46\n"
          ]
        },
        {
          "name": "stderr",
          "output_type": "stream",
          "text": [
            "Loss=0.4771057665348053 Batch_id=99 Accuracy=82.20:  25%|██▌       | 99/391 [00:14<00:37,  7.84it/s] "
          ]
        }
      ],
      "source": [
        "EPOCHS = 50\n",
        "for epoch in range(EPOCHS):\n",
        "    print(\"EPOCH:\", epoch)\n",
        "    train(model, device, train_loader, optimizer, epoch)\n",
        "    scheduler.step()\n",
        "    test(model, device, test_loader)"
      ]
    },
    {
      "cell_type": "code",
      "execution_count": null,
      "metadata": {
        "id": "HmwNvl2aBqNH"
      },
      "outputs": [],
      "source": []
    }
  ],
  "metadata": {
    "accelerator": "GPU",
    "colab": {
      "gpuType": "T4",
      "provenance": []
    },
    "kernelspec": {
      "display_name": "Python 3",
      "name": "python3"
    }
  },
  "nbformat": 4,
  "nbformat_minor": 0
}
