{
 "cells": [
  {
   "cell_type": "code",
   "execution_count": 1,
   "id": "cae56b56",
   "metadata": {},
   "outputs": [
    {
     "name": "stderr",
     "output_type": "stream",
     "text": [
      "D:\\Anaconda\\envs\\pytorch3.8\\lib\\site-packages\\tqdm\\auto.py:21: TqdmWarning: IProgress not found. Please update jupyter and ipywidgets. See https://ipywidgets.readthedocs.io/en/stable/user_install.html\n",
      "  from .autonotebook import tqdm as notebook_tqdm\n"
     ]
    }
   ],
   "source": [
    "#Imports\n",
    "import torch\n",
    "from transformer import GPT_Model\n",
    "from transformers import AutoTokenizer  # pip install transformers"
   ]
  },
  {
   "cell_type": "code",
   "execution_count": 2,
   "id": "58655f1a",
   "metadata": {},
   "outputs": [],
   "source": [
    "batch_size = 32  # how many independent sequences will we process in parallel?\n",
    "block_size = 64  # what is the maximum context length for predictions?\n",
    "max_iter = 50  # number of training iterations\n",
    "eval_inter = 10\n",
    "lr = 3e-4\n",
    "device = \"cuda\" if torch.cuda.is_available() else \"cpu\"\n",
    "n_heads = 6\n",
    "embed_size = n_heads * 128\n",
    "number_of_layers = 6\n",
    "drop_out = 0.2"
   ]
  },
  {
   "cell_type": "code",
   "execution_count": 3,
   "id": "7670fa17",
   "metadata": {},
   "outputs": [],
   "source": [
    "## Helper functions\n",
    "def encode(text_seq: str, tokenizer: any) -> torch.Tensor:\n",
    "    \"\"\"\n",
    "    Function to encode input text using a pre-trained tokenizer and vectorized lookups\n",
    "    \"\"\"\n",
    "    # tokenize the input text\n",
    "    tokens = tokenizer.tokenize(text_seq)\n",
    "    # convert the tokens to their corresponding ids\n",
    "    token_indices = tokenizer.convert_tokens_to_ids(tokens)\n",
    "    token_indices = torch.tensor(token_indices, dtype=torch.long)\n",
    "    return token_indices\n",
    "\n",
    "\n",
    "def get_batch(data # list[str]\n",
    "              , block_size: int, batch_size: int):\n",
    "    \"\"\"\n",
    "    This is a simple function to create batches of data.\n",
    "    GPUs allow for parallel processing we can feed multiple chunks at once\n",
    "    so that's why we would need batches - how many independant sequences\n",
    "    will we process in parallel.\n",
    "\n",
    "    Parameters:\n",
    "    data: list[str]: data to take batch from\n",
    "    block_size (int): size of the text that is proccessed at once\n",
    "    batch_size (int): number of sequences to process in parallel\n",
    "\n",
    "    Returns:\n",
    "    x, y: a tuple with token sequence and token target\n",
    "    \"\"\"\n",
    "    ix = torch.randint(len(data) - block_size, (batch_size,))\n",
    "    # we stack batch_size rows of sentences\n",
    "    # so x and y are the matrices with rows_num=batch_size\n",
    "    # and col_num=block_size\n",
    "    x = torch.stack([data[i : i + block_size] for i in ix])\n",
    "    # y is x shifted one position right - because we predict\n",
    "    # word in y having all the previous words as context\n",
    "    y = torch.stack([data[i + 1 : i + block_size + 1] for i in ix])\n",
    "    x, y = x.to(device), y.to(device)\n",
    "    return x, y\n",
    "\n",
    "\n",
    "@torch.no_grad()\n",
    "def estimate_loss(\n",
    "    data ,#list[str]\n",
    "    model: torch.nn.Module,\n",
    "    block_size: int,\n",
    "    batch_size: int,\n",
    "    eval_iters: int = 10,\n",
    "):\n",
    "    out = {}\n",
    "    model.eval()\n",
    "    losses = torch.zeros(eval_iters)\n",
    "    for k in range(eval_iters):\n",
    "        X, Y = get_batch(data=data, block_size=block_size, batch_size=batch_size)\n",
    "        logits, loss = model.forward(X, Y)\n",
    "        losses[k] = loss.item()\n",
    "    out = losses.mean()\n",
    "    model.train()\n",
    "    return out"
   ]
  },
  {
   "cell_type": "code",
   "execution_count": 4,
   "id": "3f924d0e",
   "metadata": {},
   "outputs": [
    {
     "name": "stderr",
     "output_type": "stream",
     "text": [
      "Token indices sequence length is longer than the specified maximum sequence length for this model (37443 > 512). Running this sequence through the model will result in indexing errors\n"
     ]
    }
   ],
   "source": [
    "# raw data\n",
    "path_do_data = \"Data/gpt_data/english.txt\"\n",
    "data_raw = open(path_do_data, encoding=\"utf-8\").read()\n",
    "# we use pretrained BERT tokenizer for performance improvements\n",
    "tokenizer = AutoTokenizer.from_pretrained(\"bert-base-uncased\")\n",
    "vocab_size = tokenizer.vocab_size\n",
    "# data_raw = data_raw[4000000:] # short dataset\n",
    "\n",
    "# train/val split\n",
    "data = encode(text_seq=data_raw, tokenizer=tokenizer)\n",
    "n = int(0.9 * len(data))  # first 90% will be train, rest val\n",
    "train_data = data[:n]\n",
    "val_data = data[n:]"
   ]
  },
  {
   "cell_type": "code",
   "execution_count": 5,
   "id": "913984a3",
   "metadata": {},
   "outputs": [
    {
     "name": "stdout",
     "output_type": "stream",
     "text": [
      "Model with 89.47M parameters\n"
     ]
    }
   ],
   "source": [
    "\n",
    "# train a new model\n",
    "model = GPT_Model(\n",
    "    vocab_size=vocab_size,\n",
    "    embed_size=embed_size,\n",
    "    seq_len=block_size,\n",
    "    n_heads=n_heads,\n",
    "    number_of_layers=number_of_layers,\n",
    "    dropout=drop_out,\n",
    ")\n",
    "# load model to GPU if available\n",
    "m = model.to(device)\n",
    "# print the number of parameters in the model\n",
    "print(\n",
    "    \"Model with {:.2f}M parameters\".format(sum(p.numel() for p in m.parameters()) / 1e6)\n",
    ")\n"
   ]
  },
  {
   "cell_type": "code",
   "execution_count": 6,
   "id": "1d43135a",
   "metadata": {},
   "outputs": [
    {
     "name": "stdout",
     "output_type": "stream",
     "text": [
      "step          0 | train loss 10.7616 | val loss 10.7466\n",
      "step         10 | train loss 6.9778 | val loss 7.5063\n",
      "step         20 | train loss 5.9235 | val loss 6.7929\n",
      "step         30 | train loss 5.5264 | val loss 6.5308\n",
      "step         40 | train loss 5.0835 | val loss 6.4108\n",
      "step         49 | train loss 4.8771 | val loss 6.2212\n"
     ]
    }
   ],
   "source": [
    "# optimizer takes the model's parameters and the learning rate as input,\n",
    "# and updates the parameters during the training process in order to\n",
    "# minimize the loss function.\n",
    "optimizer = torch.optim.AdamW(m.parameters(), lr=lr)\n",
    "for step in range(max_iter):\n",
    "\n",
    "    # every EVAL_INTER evaluate the loss on train and val sets\n",
    "    if step % eval_inter == 0 or step == max_iter - 1:\n",
    "        loss_train = estimate_loss(\n",
    "            data=train_data, model=m, block_size=block_size, batch_size=batch_size\n",
    "        )\n",
    "        loss_val = estimate_loss(\n",
    "            data=val_data, model=m, block_size=block_size, batch_size=batch_size\n",
    "        )\n",
    "        print(\"step {:10} | train loss {:6.4f} | val loss {:6.4f}\".format(step, loss_train, loss_val))\n",
    "\n",
    "    # sample a batch of data\n",
    "    xb, yb = get_batch(data=train_data, block_size=block_size, batch_size=batch_size)\n",
    "    logits, loss = m.forward(xb, yb)\n",
    "    # zero_grad() method sets the gradients of all parameters in the optimizer to zero\n",
    "    optimizer.zero_grad(set_to_none=True)\n",
    "    # backward() method on the loss variable calculates the gradients \n",
    "    # of the loss with respect to the model's parameters.\n",
    "    loss.backward()\n",
    "    # step() method on the optimizer updates the model's parameters \n",
    "    # using the calculated gradients, in order to minimize the loss.\n",
    "    optimizer.step()\n",
    "\n"
   ]
  },
  {
   "cell_type": "code",
   "execution_count": null,
   "id": "7402f86a",
   "metadata": {},
   "outputs": [],
   "source": []
  },
  {
   "cell_type": "code",
   "execution_count": null,
   "id": "f1c60113",
   "metadata": {},
   "outputs": [],
   "source": []
  }
 ],
 "metadata": {
  "kernelspec": {
   "display_name": "pytorch3.8",
   "language": "python",
   "name": "pytorch3.8"
  },
  "language_info": {
   "codemirror_mode": {
    "name": "ipython",
    "version": 3
   },
   "file_extension": ".py",
   "mimetype": "text/x-python",
   "name": "python",
   "nbconvert_exporter": "python",
   "pygments_lexer": "ipython3",
   "version": "3.8.0"
  }
 },
 "nbformat": 4,
 "nbformat_minor": 5
}
