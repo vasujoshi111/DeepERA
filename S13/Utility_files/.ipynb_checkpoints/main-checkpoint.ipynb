{
 "cells": [
  {
   "cell_type": "code",
   "execution_count": null,
   "metadata": {},
   "outputs": [],
   "source": [
    "import config\n",
    "import torch\n",
    "import torch.optim as optim\n",
    "\n",
    "from model import YOLOv3\n",
    "from tqdm import tqdm\n",
    "from utils import (\n",
    "    mean_average_precision,\n",
    "    cells_to_bboxes,\n",
    "    get_evaluation_bboxes,\n",
    "    save_checkpoint,\n",
    "    load_checkpoint,\n",
    "    check_class_accuracy,\n",
    "    get_loaders,\n",
    "    plot_couple_examples\n",
    ")\n",
    "from loss import YoloLoss\n",
    "import warnings\n",
    "warnings.filterwarnings(\"ignore\")"
   ]
  },
  {
   "cell_type": "code",
   "execution_count": null,
   "metadata": {},
   "outputs": [],
   "source": [
    "def train_fn(train_loader, model, optimizer, loss_fn, scaler, scaled_anchors):\n",
    "    loop = tqdm(train_loader, leave=True)\n",
    "    losses = []\n",
    "    for batch_idx, (x, y) in enumerate(loop):\n",
    "        x = x.to(config.DEVICE)\n",
    "        y0, y1, y2 = (\n",
    "            y[0].to(config.DEVICE),\n",
    "            y[1].to(config.DEVICE),\n",
    "            y[2].to(config.DEVICE),\n",
    "        )\n",
    "\n",
    "        with torch.cuda.amp.autocast():\n",
    "            out = model(x)\n",
    "            loss = (\n",
    "                loss_fn(out[0], y0, scaled_anchors[0])\n",
    "                + loss_fn(out[1], y1, scaled_anchors[1])\n",
    "                + loss_fn(out[2], y2, scaled_anchors[2])\n",
    "            )\n",
    "\n",
    "        losses.append(loss.item())\n",
    "        optimizer.zero_grad()\n",
    "        scaler.scale(loss).backward()\n",
    "        scaler.step(optimizer)\n",
    "        scaler.update()\n",
    "\n",
    "        # update progress bar\n",
    "        mean_loss = sum(losses) / len(losses)\n",
    "        loop.set_postfix(loss=mean_loss)"
   ]
  },
  {
   "cell_type": "code",
   "execution_count": null,
   "metadata": {},
   "outputs": [],
   "source": [
    "model = YOLOv3(num_classes=config.NUM_CLASSES).to(config.DEVICE)\n",
    "optimizer = optim.Adam(\n",
    "    model.parameters(), lr=config.LEARNING_RATE, weight_decay=config.WEIGHT_DECAY\n",
    ")\n",
    "loss_fn = YoloLoss()\n",
    "scaler = torch.cuda.amp.GradScaler()\n",
    "\n",
    "train_loader, test_loader, train_eval_loader = get_loaders(\n",
    "    train_csv_path=config.DATASET + \"/train.csv\", test_csv_path=config.DATASET + \"/test.csv\"\n",
    ")\n",
    "\n",
    "if config.LOAD_MODEL:\n",
    "    load_checkpoint(\n",
    "        config.CHECKPOINT_FILE, model, optimizer, config.LEARNING_RATE\n",
    "    )\n",
    "\n",
    "scaled_anchors = (\n",
    "    torch.tensor(config.ANCHORS)\n",
    "    * torch.tensor(config.S).unsqueeze(1).unsqueeze(1).repeat(1, 3, 2)\n",
    ").to(config.DEVICE)"
   ]
  },
  {
   "cell_type": "code",
   "execution_count": null,
   "metadata": {},
   "outputs": [],
   "source": [
    "for epoch in range(config.NUM_EPOCHS):\n",
    "    plot_couple_examples(model, test_loader, 0.6, 0.5, scaled_anchors)\n",
    "    train_fn(train_loader, model, optimizer, loss_fn, scaler, scaled_anchors)\n",
    "\n",
    "    if config.SAVE_MODEL:\n",
    "       save_checkpoint(model, optimizer, filename=f\"checkpoint.pth.tar\")\n",
    "\n",
    "    print(f\"Currently epoch {epoch}\")\n",
    "    print(\"On Train Eval loader:\")\n",
    "    print(\"On Train loader:\")\n",
    "    check_class_accuracy(model, train_loader, threshold=config.CONF_THRESHOLD)\n",
    "\n",
    "    if epoch > 0 and epoch % 3 == 0:\n",
    "        check_class_accuracy(model, test_loader, threshold=config.CONF_THRESHOLD)\n",
    "        pred_boxes, true_boxes = get_evaluation_bboxes(\n",
    "            test_loader,\n",
    "            model,\n",
    "            iou_threshold=config.NMS_IOU_THRESH,\n",
    "            anchors=config.ANCHORS,\n",
    "            threshold=config.CONF_THRESHOLD,\n",
    "        )\n",
    "        mapval = mean_average_precision(\n",
    "            pred_boxes,\n",
    "            true_boxes,\n",
    "            iou_threshold=config.MAP_IOU_THRESH,\n",
    "            box_format=\"midpoint\",\n",
    "            num_classes=config.NUM_CLASSES,\n",
    "        )\n",
    "        print(f\"MAP: {mapval.item()}\")\n",
    "        model.train()"
   ]
  },
  {
   "cell_type": "code",
   "execution_count": null,
   "metadata": {},
   "outputs": [],
   "source": [
    " "
   ]
  }
 ],
 "metadata": {
  "kernelspec": {
   "display_name": "Python 3 (ipykernel)",
   "language": "python",
   "name": "python3"
  },
  "language_info": {
   "codemirror_mode": {
    "name": "ipython",
    "version": 3
   },
   "file_extension": ".py",
   "mimetype": "text/x-python",
   "name": "python",
   "nbconvert_exporter": "python",
   "pygments_lexer": "ipython3",
   "version": "3.9.7"
  }
 },
 "nbformat": 4,
 "nbformat_minor": 2
}
