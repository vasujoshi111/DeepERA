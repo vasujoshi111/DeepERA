{
 "cells": [
  {
   "cell_type": "code",
   "execution_count": 1,
   "id": "2db67b26-8ff5-4db4-b0df-e3f9a7af898a",
   "metadata": {},
   "outputs": [
    {
     "name": "stdout",
     "output_type": "stream",
     "text": [
      "\u001b[33mWARNING: Running pip as the 'root' user can result in broken permissions and conflicting behaviour with the system package manager. It is recommended to use a virtual environment instead: https://pip.pypa.io/warnings/venv\u001b[0m\u001b[33m\n",
      "\u001b[0m\n",
      "\u001b[1m[\u001b[0m\u001b[34;49mnotice\u001b[0m\u001b[1;39;49m]\u001b[0m\u001b[39;49m A new release of pip is available: \u001b[0m\u001b[31;49m23.3.2\u001b[0m\u001b[39;49m -> \u001b[0m\u001b[32;49m24.0\u001b[0m\n",
      "\u001b[1m[\u001b[0m\u001b[34;49mnotice\u001b[0m\u001b[1;39;49m]\u001b[0m\u001b[39;49m To update, run: \u001b[0m\u001b[32;49mpip install --upgrade pip\u001b[0m\n"
     ]
    }
   ],
   "source": [
    "!pip install -q -U accelerate torch torchvision bitsandbytes torchaudio transformers git+https://github.com/huggingface/peft.git"
   ]
  },
  {
   "cell_type": "code",
   "execution_count": 2,
   "id": "e916f070-0e67-422a-bc4e-c88bd4875e76",
   "metadata": {},
   "outputs": [],
   "source": [
    "# !wget \"https://huggingface.co/datasets/liuhaotian/LLaVA-Instruct-150K/resolve/main/llava_instruct_150k.json\""
   ]
  },
  {
   "cell_type": "code",
   "execution_count": 3,
   "id": "e8c571e0-8835-487c-bd16-3a37327b57f9",
   "metadata": {},
   "outputs": [],
   "source": [
    "# !cp llava_instruct_150k.json data/"
   ]
  },
  {
   "cell_type": "code",
   "execution_count": 4,
   "id": "2568e6df-7209-4eab-83f1-4d1a11b31c71",
   "metadata": {
    "scrolled": true
   },
   "outputs": [
    {
     "name": "stdout",
     "output_type": "stream",
     "text": [
      "\u001b[33mWARNING: Running pip as the 'root' user can result in broken permissions and conflicting behaviour with the system package manager. It is recommended to use a virtual environment instead: https://pip.pypa.io/warnings/venv\u001b[0m\u001b[33m\n",
      "\u001b[0m\n",
      "\u001b[1m[\u001b[0m\u001b[34;49mnotice\u001b[0m\u001b[1;39;49m]\u001b[0m\u001b[39;49m A new release of pip is available: \u001b[0m\u001b[31;49m23.3.2\u001b[0m\u001b[39;49m -> \u001b[0m\u001b[32;49m24.0\u001b[0m\n",
      "\u001b[1m[\u001b[0m\u001b[34;49mnotice\u001b[0m\u001b[1;39;49m]\u001b[0m\u001b[39;49m To update, run: \u001b[0m\u001b[32;49mpip install --upgrade pip\u001b[0m\n"
     ]
    }
   ],
   "source": [
    "!pip install -q datasets"
   ]
  },
  {
   "cell_type": "code",
   "execution_count": 5,
   "id": "708da104-a01a-42bd-a773-8572ae7976a5",
   "metadata": {},
   "outputs": [],
   "source": [
    "!python get_i150k.py"
   ]
  },
  {
   "cell_type": "code",
   "execution_count": null,
   "id": "bee5aac6-fd27-485d-a129-8080c4255290",
   "metadata": {
    "scrolled": true
   },
   "outputs": [
    {
     "name": "stdout",
     "output_type": "stream",
     "text": [
      "Special tokens have been added in the vocabulary, make sure the associated word embeddings are fine-tuned or trained.\n",
      "/root/miniconda3/envs/py3.10/lib/python3.10/site-packages/torch/utils/data/dataloader.py:558: UserWarning: This DataLoader will create 32 worker processes in total. Our suggested max number of worker in current system is 7, which is smaller than what this DataLoader is going to create. Please be aware that excessive worker creation might get DataLoader running slow or even freeze, lower the worker number to avoid potential slowness/freeze if necessary.\n",
      "  warnings.warn(_create_warning_msg(\n",
      "Loading checkpoint shards: 100%|██████████████████| 2/2 [00:02<00:00,  1.33s/it]\n",
      "  0%|                                                 | 0/33012 [00:00<?, ?it/s]Epoch: 1\n",
      "Epoch: 1: Training Loss = 5.17802095413208:   0%| | 91/33012 [04:05<24:47:44,  2in frp 'float' object has no attribute 'backward'\n",
      "Epoch: 1: Training Loss = 2.0652730464935303:  18%|▏| 5973/33012 [4:04:43<19:01:in frp 'float' object has no attribute 'backward'\n",
      "Epoch: 1: Training Loss = 4.644315242767334:  18%|▏| 6035/33012 [4:08:16<19:02:0"
     ]
    }
   ],
   "source": [
    "!python main.py"
   ]
  },
  {
   "cell_type": "code",
   "execution_count": null,
   "id": "948bf733-d36c-4aa8-b836-3b8ac9457163",
   "metadata": {},
   "outputs": [],
   "source": []
  },
  {
   "cell_type": "code",
   "execution_count": null,
   "id": "dc905faa-ec9e-4a6a-9d4f-e9aff9cdb4c3",
   "metadata": {},
   "outputs": [],
   "source": []
  }
 ],
 "metadata": {
  "kernelspec": {
   "display_name": "Python 3 (ipykernel)",
   "language": "python",
   "name": "python3"
  },
  "language_info": {
   "codemirror_mode": {
    "name": "ipython",
    "version": 3
   },
   "file_extension": ".py",
   "mimetype": "text/x-python",
   "name": "python",
   "nbconvert_exporter": "python",
   "pygments_lexer": "ipython3",
   "version": "3.10.13"
  }
 },
 "nbformat": 4,
 "nbformat_minor": 5
}
